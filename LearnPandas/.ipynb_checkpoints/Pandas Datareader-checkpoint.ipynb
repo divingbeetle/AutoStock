{
 "cells": [
  {
   "cell_type": "markdown",
   "id": "5753d7d9",
   "metadata": {},
   "source": [
    "# DataReader"
   ]
  },
  {
   "cell_type": "markdown",
   "id": "d2dd4166",
   "metadata": {},
   "source": [
    "<br><br>\n",
    "<b>For daily candle chart data, it's more effective to load data from web, not the company API</b>"
   ]
  },
  {
   "cell_type": "markdown",
   "id": "03beb552",
   "metadata": {},
   "source": [
    "<b>Pandas Datareader provides methods to load data from web and make it into a dataframe</b>"
   ]
  },
  {
   "cell_type": "code",
   "execution_count": 1,
   "id": "22e76be7",
   "metadata": {},
   "outputs": [],
   "source": [
    "import pandas_datareader.data as web"
   ]
  },
  {
   "cell_type": "code",
   "execution_count": 2,
   "id": "a9ba05d1",
   "metadata": {},
   "outputs": [],
   "source": [
    "import datetime"
   ]
  },
  {
   "cell_type": "code",
   "execution_count": 3,
   "id": "642ed099",
   "metadata": {},
   "outputs": [],
   "source": [
    "start = datetime.datetime(2016, 2, 19)"
   ]
  },
  {
   "cell_type": "code",
   "execution_count": 4,
   "id": "90b04934",
   "metadata": {},
   "outputs": [],
   "source": [
    "end = datetime.datetime(2016, 3, 4)"
   ]
  },
  {
   "cell_type": "code",
   "execution_count": 5,
   "id": "e02f391e",
   "metadata": {},
   "outputs": [],
   "source": [
    "gs = web.DataReader(\"078930.KS\", \"yahoo\", start, end)"
   ]
  },
  {
   "cell_type": "code",
   "execution_count": 6,
   "id": "6238c2aa",
   "metadata": {},
   "outputs": [
    {
     "ename": "NameError",
     "evalue": "name 'gd' is not defined",
     "output_type": "error",
     "traceback": [
      "\u001b[1;31m---------------------------------------------------------------------------\u001b[0m",
      "\u001b[1;31mNameError\u001b[0m                                 Traceback (most recent call last)",
      "\u001b[1;32m<ipython-input-6-87c626713ed1>\u001b[0m in \u001b[0;36m<module>\u001b[1;34m\u001b[0m\n\u001b[1;32m----> 1\u001b[1;33m \u001b[0mgd\u001b[0m\u001b[1;33m\u001b[0m\u001b[1;33m\u001b[0m\u001b[0m\n\u001b[0m",
      "\u001b[1;31mNameError\u001b[0m: name 'gd' is not defined"
     ]
    }
   ],
   "source": [
    "gd"
   ]
  },
  {
   "cell_type": "code",
   "execution_count": null,
   "id": "78ab11fa",
   "metadata": {},
   "outputs": [],
   "source": []
  }
 ],
 "metadata": {
  "kernelspec": {
   "display_name": "Python 3",
   "language": "python",
   "name": "python3"
  },
  "language_info": {
   "codemirror_mode": {
    "name": "ipython",
    "version": 3
   },
   "file_extension": ".py",
   "mimetype": "text/x-python",
   "name": "python",
   "nbconvert_exporter": "python",
   "pygments_lexer": "ipython3",
   "version": "3.9.6"
  }
 },
 "nbformat": 4,
 "nbformat_minor": 5
}

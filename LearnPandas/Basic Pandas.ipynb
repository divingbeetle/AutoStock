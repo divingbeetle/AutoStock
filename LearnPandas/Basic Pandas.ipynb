{
 "cells": [
  {
   "cell_type": "markdown",
   "id": "aef31824",
   "metadata": {},
   "source": [
    "# Basic Pandas"
   ]
  },
  {
   "cell_type": "markdown",
   "id": "b754caee",
   "metadata": {},
   "source": [
    "<b>$ pip install pandas</b>"
   ]
  },
  {
   "cell_type": "markdown",
   "id": "3e85c665",
   "metadata": {},
   "source": [
    "<b>Let's use series and dataframe type from Pandas</b>"
   ]
  },
  {
   "cell_type": "code",
   "execution_count": 1,
   "id": "ceac5347",
   "metadata": {},
   "outputs": [
    {
     "ename": "ImportError",
     "evalue": "cannot import name 'Series' from 'pandas' (unknown location)",
     "output_type": "error",
     "traceback": [
      "\u001B[1;31m---------------------------------------------------------------------------\u001B[0m",
      "\u001B[1;31mImportError\u001B[0m                               Traceback (most recent call last)",
      "\u001B[1;32m<ipython-input-1-3c33a4fae57a>\u001B[0m in \u001B[0;36m<module>\u001B[1;34m\u001B[0m\n\u001B[1;32m----> 1\u001B[1;33m \u001B[1;32mfrom\u001B[0m \u001B[0mpandas\u001B[0m \u001B[1;32mimport\u001B[0m \u001B[0mSeries\u001B[0m\u001B[1;33m,\u001B[0m \u001B[0mDataFrame\u001B[0m\u001B[1;33m\u001B[0m\u001B[1;33m\u001B[0m\u001B[0m\n\u001B[0m\u001B[0;32m      2\u001B[0m \u001B[1;33m\u001B[0m\u001B[0m\n",
      "\u001B[1;31mImportError\u001B[0m: cannot import name 'Series' from 'pandas' (unknown location)"
     ]
    }
   ],
   "source": [
    "from pandas import Series, DataFrame"
   ]
  },
  {
   "cell_type": "markdown",
   "id": "14f3f748",
   "metadata": {},
   "source": [
    "---\n",
    "### 1. Pandas Series"
   ]
  },
  {
   "cell_type": "markdown",
   "id": "9b036bca",
   "metadata": {},
   "source": [
    "<br><br>\n",
    "<b>Let's say we have a series of KAKAO's end price</b>"
   ]
  },
  {
   "cell_type": "code",
   "execution_count": 2,
   "id": "aa8d9a4c",
   "metadata": {},
   "outputs": [],
   "source": [
    "kakao = Series([92600, 92400, 92100, 94300, 92300])"
   ]
  },
  {
   "cell_type": "code",
   "execution_count": 4,
   "id": "7d8971c9",
   "metadata": {},
   "outputs": [
    {
     "data": {
      "text/plain": [
       "0    92600\n",
       "1    92400\n",
       "2    92100\n",
       "3    94300\n",
       "4    92300\n",
       "dtype: int64"
      ]
     },
     "execution_count": 4,
     "metadata": {},
     "output_type": "execute_result"
    }
   ],
   "source": [
    "kakao"
   ]
  },
  {
   "cell_type": "markdown",
   "id": "b0701910",
   "metadata": {},
   "source": [
    "<br><br>\n",
    "<b>w/o any index, Series Object index will start from 0</b>"
   ]
  },
  {
   "cell_type": "code",
   "execution_count": 5,
   "id": "04f80a8f",
   "metadata": {},
   "outputs": [
    {
     "name": "stdout",
     "output_type": "stream",
     "text": [
      "92600\n"
     ]
    }
   ],
   "source": [
    "print(kakao[0])"
   ]
  },
  {
   "cell_type": "markdown",
   "id": "e2895a86",
   "metadata": {},
   "source": [
    "<br><br>\n",
    "<b>Index of a Pandas Series can be a string</b>"
   ]
  },
  {
   "cell_type": "code",
   "execution_count": 6,
   "id": "100adffa",
   "metadata": {},
   "outputs": [],
   "source": [
    "kakao2 = Series([92600, 92400, 92100, 94300, 92300], index=['2016-02-19',\n",
    "                                                            '2016-02-18',\n",
    "                                                            '2016-02-17',\n",
    "                                                            '2016-02-16',\n",
    "                                                            '2016-02-15'])"
   ]
  },
  {
   "cell_type": "code",
   "execution_count": 7,
   "id": "84f8e651",
   "metadata": {},
   "outputs": [
    {
     "data": {
      "text/plain": [
       "2016-02-19    92600\n",
       "2016-02-18    92400\n",
       "2016-02-17    92100\n",
       "2016-02-16    94300\n",
       "2016-02-15    92300\n",
       "dtype: int64"
      ]
     },
     "execution_count": 7,
     "metadata": {},
     "output_type": "execute_result"
    }
   ],
   "source": [
    "kakao2"
   ]
  },
  {
   "cell_type": "code",
   "execution_count": 8,
   "id": "80a026c1",
   "metadata": {},
   "outputs": [
    {
     "data": {
      "text/plain": [
       "92600"
      ]
     },
     "execution_count": 8,
     "metadata": {},
     "output_type": "execute_result"
    }
   ],
   "source": [
    "kakao2['2016-02-19']"
   ]
  },
  {
   "cell_type": "markdown",
   "id": "fc577d7a",
   "metadata": {},
   "source": [
    "<br><br>\n",
    "<b>Just like a Python dictionary, we can you these attributes</b>"
   ]
  },
  {
   "cell_type": "code",
   "execution_count": 10,
   "id": "fde04883",
   "metadata": {},
   "outputs": [
    {
     "name": "stdout",
     "output_type": "stream",
     "text": [
      "2016-02-19\n",
      "2016-02-18\n",
      "2016-02-17\n",
      "2016-02-16\n",
      "2016-02-15\n"
     ]
    }
   ],
   "source": [
    "for date in kakao2.index:\n",
    "    print(date)"
   ]
  },
  {
   "cell_type": "code",
   "execution_count": 11,
   "id": "125c03bf",
   "metadata": {},
   "outputs": [
    {
     "name": "stdout",
     "output_type": "stream",
     "text": [
      "92600\n",
      "92400\n",
      "92100\n",
      "94300\n",
      "92300\n"
     ]
    }
   ],
   "source": [
    "for ending_price in kakao2.values:\n",
    "    print(ending_price)"
   ]
  },
  {
   "cell_type": "markdown",
   "id": "d6ad37a8",
   "metadata": {},
   "source": [
    "---\n",
    "### 2. Adding Series"
   ]
  },
  {
   "cell_type": "markdown",
   "id": "3bc7dd68",
   "metadata": {},
   "source": [
    "<br><br>\n",
    "<b>Adding Series is quite easy</b>"
   ]
  },
  {
   "cell_type": "code",
   "execution_count": 12,
   "id": "d3eafc50",
   "metadata": {},
   "outputs": [],
   "source": [
    "husband_account = Series([10, 20, 30], index =['naver', 'sk', 'kt'])\n",
    "wife_account = Series([10, 30, 20], index =['kt', 'naver', 'sk'])"
   ]
  },
  {
   "cell_type": "code",
   "execution_count": 13,
   "id": "3dcce287",
   "metadata": {},
   "outputs": [],
   "source": [
    "familly_account = husband_account + wife_account"
   ]
  },
  {
   "cell_type": "code",
   "execution_count": 14,
   "id": "c77c17c3",
   "metadata": {},
   "outputs": [
    {
     "data": {
      "text/plain": [
       "kt       40\n",
       "naver    40\n",
       "sk       40\n",
       "dtype: int64"
      ]
     },
     "execution_count": 14,
     "metadata": {},
     "output_type": "execute_result"
    }
   ],
   "source": [
    "familly_account"
   ]
  },
  {
   "cell_type": "markdown",
   "id": "5fefcbb5",
   "metadata": {},
   "source": [
    "<br><br>"
   ]
  },
  {
   "cell_type": "markdown",
   "id": "4bee1605",
   "metadata": {},
   "source": [
    "---\n",
    "### 3. Pandas DataFrame"
   ]
  },
  {
   "cell_type": "markdown",
   "id": "9eacbe0a",
   "metadata": {},
   "source": [
    "<br><br>"
   ]
  },
  {
   "cell_type": "markdown",
   "id": "5b96c649",
   "metadata": {},
   "source": [
    "<b>Pandas DataFrame is just like a dataframe from R  \n",
    "It's a 2-dimensional datatype, easy and convinient</b>"
   ]
  },
  {
   "cell_type": "markdown",
   "id": "61ff20a9",
   "metadata": {},
   "source": [
    "<br><br>\n",
    "<b>You can create DataFrame Object w/ python dictionary</b>"
   ]
  },
  {
   "cell_type": "code",
   "execution_count": 15,
   "id": "ec690249",
   "metadata": {},
   "outputs": [],
   "source": [
    "raw_data = {'col0': [1, 2, 3, 4],\n",
    "            'col1': [10, 20, 30, 40],\n",
    "            'col2': [100, 200, 300, 400]}"
   ]
  },
  {
   "cell_type": "code",
   "execution_count": 16,
   "id": "a411fce2",
   "metadata": {},
   "outputs": [],
   "source": [
    "data = DataFrame(raw_data)"
   ]
  },
  {
   "cell_type": "code",
   "execution_count": 17,
   "id": "2a51a066",
   "metadata": {},
   "outputs": [
    {
     "name": "stdout",
     "output_type": "stream",
     "text": [
      "   col0  col1  col2\n",
      "0     1    10   100\n",
      "1     2    20   200\n",
      "2     3    30   300\n",
      "3     4    40   400\n"
     ]
    }
   ],
   "source": [
    "print(data)"
   ]
  },
  {
   "cell_type": "markdown",
   "id": "92d6e5a8",
   "metadata": {},
   "source": [
    "<br><br>\n",
    "<b>In the result, we have col0 to col2 as a column name,  \n",
    "for row name, we got 0 to 3 automatically</b>"
   ]
  },
  {
   "cell_type": "markdown",
   "id": "9e273ecb",
   "metadata": {},
   "source": [
    "<br><br>\n",
    "<b>Accessing DataFrame is like python dictionary</b>"
   ]
  },
  {
   "cell_type": "code",
   "execution_count": 18,
   "id": "8b9f0a6f",
   "metadata": {},
   "outputs": [
    {
     "data": {
      "text/plain": [
       "0    1\n",
       "1    2\n",
       "2    3\n",
       "3    4\n",
       "Name: col0, dtype: int64"
      ]
     },
     "execution_count": 18,
     "metadata": {},
     "output_type": "execute_result"
    }
   ],
   "source": [
    "data['col0']"
   ]
  },
  {
   "cell_type": "markdown",
   "id": "babc77e7",
   "metadata": {},
   "source": [
    "<br><br>\n",
    "<b>Each column for DataFrame is a Series object  \n",
    "You can think of a DataFrame object as a data structure as Series w/ same indexs</b>"
   ]
  },
  {
   "cell_type": "code",
   "execution_count": 19,
   "id": "8ac9e7b2",
   "metadata": {},
   "outputs": [
    {
     "data": {
      "text/plain": [
       "pandas.core.series.Series"
      ]
     },
     "execution_count": 19,
     "metadata": {},
     "output_type": "execute_result"
    }
   ],
   "source": [
    "type(data['col0'])"
   ]
  },
  {
   "cell_type": "markdown",
   "id": "1caa02bd",
   "metadata": {},
   "source": [
    "<br><br>\n",
    "<b>Let's store the OHLC of a certain Stock w/ DataFrame </b>"
   ]
  },
  {
   "cell_type": "code",
   "execution_count": 20,
   "id": "fa78beb5",
   "metadata": {},
   "outputs": [],
   "source": [
    "daeshin = {'open':  [11650, 11100, 11200, 11100, 11000],\n",
    "           'high':  [12100, 11800, 11200, 11100, 11150],\n",
    "           'low' :  [11600, 11050, 10900, 10950, 10900],\n",
    "           'close': [11900, 11600, 11000, 11100, 11050]}"
   ]
  },
  {
   "cell_type": "code",
   "execution_count": 21,
   "id": "8b8c9b48",
   "metadata": {},
   "outputs": [],
   "source": [
    "daeshin_day = DataFrame(daeshin)"
   ]
  },
  {
   "cell_type": "code",
   "execution_count": 22,
   "id": "77c345d5",
   "metadata": {},
   "outputs": [
    {
     "data": {
      "text/html": [
       "<div>\n",
       "<style scoped>\n",
       "    .dataframe tbody tr th:only-of-type {\n",
       "        vertical-align: middle;\n",
       "    }\n",
       "\n",
       "    .dataframe tbody tr th {\n",
       "        vertical-align: top;\n",
       "    }\n",
       "\n",
       "    .dataframe thead th {\n",
       "        text-align: right;\n",
       "    }\n",
       "</style>\n",
       "<table border=\"1\" class=\"dataframe\">\n",
       "  <thead>\n",
       "    <tr style=\"text-align: right;\">\n",
       "      <th></th>\n",
       "      <th>open</th>\n",
       "      <th>high</th>\n",
       "      <th>low</th>\n",
       "      <th>close</th>\n",
       "    </tr>\n",
       "  </thead>\n",
       "  <tbody>\n",
       "    <tr>\n",
       "      <th>0</th>\n",
       "      <td>11650</td>\n",
       "      <td>12100</td>\n",
       "      <td>11600</td>\n",
       "      <td>11900</td>\n",
       "    </tr>\n",
       "    <tr>\n",
       "      <th>1</th>\n",
       "      <td>11100</td>\n",
       "      <td>11800</td>\n",
       "      <td>11050</td>\n",
       "      <td>11600</td>\n",
       "    </tr>\n",
       "    <tr>\n",
       "      <th>2</th>\n",
       "      <td>11200</td>\n",
       "      <td>11200</td>\n",
       "      <td>10900</td>\n",
       "      <td>11000</td>\n",
       "    </tr>\n",
       "    <tr>\n",
       "      <th>3</th>\n",
       "      <td>11100</td>\n",
       "      <td>11100</td>\n",
       "      <td>10950</td>\n",
       "      <td>11100</td>\n",
       "    </tr>\n",
       "    <tr>\n",
       "      <th>4</th>\n",
       "      <td>11000</td>\n",
       "      <td>11150</td>\n",
       "      <td>10900</td>\n",
       "      <td>11050</td>\n",
       "    </tr>\n",
       "  </tbody>\n",
       "</table>\n",
       "</div>"
      ],
      "text/plain": [
       "    open   high    low  close\n",
       "0  11650  12100  11600  11900\n",
       "1  11100  11800  11050  11600\n",
       "2  11200  11200  10900  11000\n",
       "3  11100  11100  10950  11100\n",
       "4  11000  11150  10900  11050"
      ]
     },
     "execution_count": 22,
     "metadata": {},
     "output_type": "execute_result"
    }
   ],
   "source": [
    "daeshin_day"
   ]
  },
  {
   "cell_type": "markdown",
   "id": "683deae0",
   "metadata": {},
   "source": [
    "<br><br>\n",
    "<b>Let's name our rows for the DataFrame</b>"
   ]
  },
  {
   "cell_type": "code",
   "execution_count": 23,
   "id": "7ab19f54",
   "metadata": {},
   "outputs": [],
   "source": [
    "date = ['16.02.29', '16.02.26', '16.02.25', '16.02.24', '16.02.23']\n",
    "daeshin_day = DataFrame(daeshin, columns=['open', 'high', 'low', 'close'], index=date)"
   ]
  },
  {
   "cell_type": "code",
   "execution_count": 24,
   "id": "d72e0e12",
   "metadata": {},
   "outputs": [
    {
     "data": {
      "text/html": [
       "<div>\n",
       "<style scoped>\n",
       "    .dataframe tbody tr th:only-of-type {\n",
       "        vertical-align: middle;\n",
       "    }\n",
       "\n",
       "    .dataframe tbody tr th {\n",
       "        vertical-align: top;\n",
       "    }\n",
       "\n",
       "    .dataframe thead th {\n",
       "        text-align: right;\n",
       "    }\n",
       "</style>\n",
       "<table border=\"1\" class=\"dataframe\">\n",
       "  <thead>\n",
       "    <tr style=\"text-align: right;\">\n",
       "      <th></th>\n",
       "      <th>open</th>\n",
       "      <th>high</th>\n",
       "      <th>low</th>\n",
       "      <th>close</th>\n",
       "    </tr>\n",
       "  </thead>\n",
       "  <tbody>\n",
       "    <tr>\n",
       "      <th>16.02.29</th>\n",
       "      <td>11650</td>\n",
       "      <td>12100</td>\n",
       "      <td>11600</td>\n",
       "      <td>11900</td>\n",
       "    </tr>\n",
       "    <tr>\n",
       "      <th>16.02.26</th>\n",
       "      <td>11100</td>\n",
       "      <td>11800</td>\n",
       "      <td>11050</td>\n",
       "      <td>11600</td>\n",
       "    </tr>\n",
       "    <tr>\n",
       "      <th>16.02.25</th>\n",
       "      <td>11200</td>\n",
       "      <td>11200</td>\n",
       "      <td>10900</td>\n",
       "      <td>11000</td>\n",
       "    </tr>\n",
       "    <tr>\n",
       "      <th>16.02.24</th>\n",
       "      <td>11100</td>\n",
       "      <td>11100</td>\n",
       "      <td>10950</td>\n",
       "      <td>11100</td>\n",
       "    </tr>\n",
       "    <tr>\n",
       "      <th>16.02.23</th>\n",
       "      <td>11000</td>\n",
       "      <td>11150</td>\n",
       "      <td>10900</td>\n",
       "      <td>11050</td>\n",
       "    </tr>\n",
       "  </tbody>\n",
       "</table>\n",
       "</div>"
      ],
      "text/plain": [
       "           open   high    low  close\n",
       "16.02.29  11650  12100  11600  11900\n",
       "16.02.26  11100  11800  11050  11600\n",
       "16.02.25  11200  11200  10900  11000\n",
       "16.02.24  11100  11100  10950  11100\n",
       "16.02.23  11000  11150  10900  11050"
      ]
     },
     "execution_count": 24,
     "metadata": {},
     "output_type": "execute_result"
    }
   ],
   "source": [
    "daeshin_day"
   ]
  },
  {
   "cell_type": "markdown",
   "id": "bce82ca0",
   "metadata": {},
   "source": [
    "<br><br>\n",
    "<b><i>AESTHETIC</i></b>"
   ]
  },
  {
   "cell_type": "markdown",
   "id": "64c1462f",
   "metadata": {},
   "source": [
    "<br><br>\n"
   ]
  },
  {
   "cell_type": "markdown",
   "id": "c11820b4",
   "metadata": {},
   "source": [
    "---\n",
    "### 4. Accessing row and column of DataFrame"
   ]
  },
  {
   "cell_type": "markdown",
   "id": "e4b21fe0",
   "metadata": {},
   "source": [
    "<br><br>"
   ]
  },
  {
   "cell_type": "markdown",
   "id": "66541c41",
   "metadata": {},
   "source": [
    "<b>As we did before, we can access the column like dictionary key in python</b>"
   ]
  },
  {
   "cell_type": "code",
   "execution_count": 25,
   "id": "dcbfa144",
   "metadata": {},
   "outputs": [],
   "source": [
    "close_price = daeshin_day['close']"
   ]
  },
  {
   "cell_type": "code",
   "execution_count": 26,
   "id": "398c491a",
   "metadata": {},
   "outputs": [
    {
     "data": {
      "text/plain": [
       "16.02.29    11900\n",
       "16.02.26    11600\n",
       "16.02.25    11000\n",
       "16.02.24    11100\n",
       "16.02.23    11050\n",
       "Name: close, dtype: int64"
      ]
     },
     "execution_count": 26,
     "metadata": {},
     "output_type": "execute_result"
    }
   ],
   "source": [
    "close_price"
   ]
  },
  {
   "cell_type": "markdown",
   "id": "22682e62",
   "metadata": {},
   "source": [
    "<br><br>\n",
    "<b>What about the cloumn?  \n",
    "Let's access OHLC of a certain date</b>"
   ]
  },
  {
   "cell_type": "code",
   "execution_count": 27,
   "id": "e0ef292e",
   "metadata": {
    "scrolled": true
   },
   "outputs": [
    {
     "ename": "KeyError",
     "evalue": "'16.02.24'",
     "output_type": "error",
     "traceback": [
      "\u001B[1;31m---------------------------------------------------------------------------\u001B[0m",
      "\u001B[1;31mKeyError\u001B[0m                                  Traceback (most recent call last)",
      "\u001B[1;32mC:\\ProgramData\\Anaconda3\\lib\\site-packages\\pandas\\core\\indexes\\base.py\u001B[0m in \u001B[0;36mget_loc\u001B[1;34m(self, key, method, tolerance)\u001B[0m\n\u001B[0;32m   3079\u001B[0m             \u001B[1;32mtry\u001B[0m\u001B[1;33m:\u001B[0m\u001B[1;33m\u001B[0m\u001B[1;33m\u001B[0m\u001B[0m\n\u001B[1;32m-> 3080\u001B[1;33m                 \u001B[1;32mreturn\u001B[0m \u001B[0mself\u001B[0m\u001B[1;33m.\u001B[0m\u001B[0m_engine\u001B[0m\u001B[1;33m.\u001B[0m\u001B[0mget_loc\u001B[0m\u001B[1;33m(\u001B[0m\u001B[0mcasted_key\u001B[0m\u001B[1;33m)\u001B[0m\u001B[1;33m\u001B[0m\u001B[1;33m\u001B[0m\u001B[0m\n\u001B[0m\u001B[0;32m   3081\u001B[0m             \u001B[1;32mexcept\u001B[0m \u001B[0mKeyError\u001B[0m \u001B[1;32mas\u001B[0m \u001B[0merr\u001B[0m\u001B[1;33m:\u001B[0m\u001B[1;33m\u001B[0m\u001B[1;33m\u001B[0m\u001B[0m\n",
      "\u001B[1;32mpandas\\_libs\\index.pyx\u001B[0m in \u001B[0;36mpandas._libs.index.IndexEngine.get_loc\u001B[1;34m()\u001B[0m\n",
      "\u001B[1;32mpandas\\_libs\\index.pyx\u001B[0m in \u001B[0;36mpandas._libs.index.IndexEngine.get_loc\u001B[1;34m()\u001B[0m\n",
      "\u001B[1;32mpandas\\_libs\\hashtable_class_helper.pxi\u001B[0m in \u001B[0;36mpandas._libs.hashtable.PyObjectHashTable.get_item\u001B[1;34m()\u001B[0m\n",
      "\u001B[1;32mpandas\\_libs\\hashtable_class_helper.pxi\u001B[0m in \u001B[0;36mpandas._libs.hashtable.PyObjectHashTable.get_item\u001B[1;34m()\u001B[0m\n",
      "\u001B[1;31mKeyError\u001B[0m: '16.02.24'",
      "\nThe above exception was the direct cause of the following exception:\n",
      "\u001B[1;31mKeyError\u001B[0m                                  Traceback (most recent call last)",
      "\u001B[1;32m<ipython-input-27-1c40da162794>\u001B[0m in \u001B[0;36m<module>\u001B[1;34m\u001B[0m\n\u001B[1;32m----> 1\u001B[1;33m \u001B[0mdate160224\u001B[0m \u001B[1;33m=\u001B[0m \u001B[0mdaeshin_day\u001B[0m\u001B[1;33m[\u001B[0m\u001B[1;34m'16.02.24'\u001B[0m\u001B[1;33m]\u001B[0m\u001B[1;33m\u001B[0m\u001B[1;33m\u001B[0m\u001B[0m\n\u001B[0m",
      "\u001B[1;32mC:\\ProgramData\\Anaconda3\\lib\\site-packages\\pandas\\core\\frame.py\u001B[0m in \u001B[0;36m__getitem__\u001B[1;34m(self, key)\u001B[0m\n\u001B[0;32m   3022\u001B[0m             \u001B[1;32mif\u001B[0m \u001B[0mself\u001B[0m\u001B[1;33m.\u001B[0m\u001B[0mcolumns\u001B[0m\u001B[1;33m.\u001B[0m\u001B[0mnlevels\u001B[0m \u001B[1;33m>\u001B[0m \u001B[1;36m1\u001B[0m\u001B[1;33m:\u001B[0m\u001B[1;33m\u001B[0m\u001B[1;33m\u001B[0m\u001B[0m\n\u001B[0;32m   3023\u001B[0m                 \u001B[1;32mreturn\u001B[0m \u001B[0mself\u001B[0m\u001B[1;33m.\u001B[0m\u001B[0m_getitem_multilevel\u001B[0m\u001B[1;33m(\u001B[0m\u001B[0mkey\u001B[0m\u001B[1;33m)\u001B[0m\u001B[1;33m\u001B[0m\u001B[1;33m\u001B[0m\u001B[0m\n\u001B[1;32m-> 3024\u001B[1;33m             \u001B[0mindexer\u001B[0m \u001B[1;33m=\u001B[0m \u001B[0mself\u001B[0m\u001B[1;33m.\u001B[0m\u001B[0mcolumns\u001B[0m\u001B[1;33m.\u001B[0m\u001B[0mget_loc\u001B[0m\u001B[1;33m(\u001B[0m\u001B[0mkey\u001B[0m\u001B[1;33m)\u001B[0m\u001B[1;33m\u001B[0m\u001B[1;33m\u001B[0m\u001B[0m\n\u001B[0m\u001B[0;32m   3025\u001B[0m             \u001B[1;32mif\u001B[0m \u001B[0mis_integer\u001B[0m\u001B[1;33m(\u001B[0m\u001B[0mindexer\u001B[0m\u001B[1;33m)\u001B[0m\u001B[1;33m:\u001B[0m\u001B[1;33m\u001B[0m\u001B[1;33m\u001B[0m\u001B[0m\n\u001B[0;32m   3026\u001B[0m                 \u001B[0mindexer\u001B[0m \u001B[1;33m=\u001B[0m \u001B[1;33m[\u001B[0m\u001B[0mindexer\u001B[0m\u001B[1;33m]\u001B[0m\u001B[1;33m\u001B[0m\u001B[1;33m\u001B[0m\u001B[0m\n",
      "\u001B[1;32mC:\\ProgramData\\Anaconda3\\lib\\site-packages\\pandas\\core\\indexes\\base.py\u001B[0m in \u001B[0;36mget_loc\u001B[1;34m(self, key, method, tolerance)\u001B[0m\n\u001B[0;32m   3080\u001B[0m                 \u001B[1;32mreturn\u001B[0m \u001B[0mself\u001B[0m\u001B[1;33m.\u001B[0m\u001B[0m_engine\u001B[0m\u001B[1;33m.\u001B[0m\u001B[0mget_loc\u001B[0m\u001B[1;33m(\u001B[0m\u001B[0mcasted_key\u001B[0m\u001B[1;33m)\u001B[0m\u001B[1;33m\u001B[0m\u001B[1;33m\u001B[0m\u001B[0m\n\u001B[0;32m   3081\u001B[0m             \u001B[1;32mexcept\u001B[0m \u001B[0mKeyError\u001B[0m \u001B[1;32mas\u001B[0m \u001B[0merr\u001B[0m\u001B[1;33m:\u001B[0m\u001B[1;33m\u001B[0m\u001B[1;33m\u001B[0m\u001B[0m\n\u001B[1;32m-> 3082\u001B[1;33m                 \u001B[1;32mraise\u001B[0m \u001B[0mKeyError\u001B[0m\u001B[1;33m(\u001B[0m\u001B[0mkey\u001B[0m\u001B[1;33m)\u001B[0m \u001B[1;32mfrom\u001B[0m \u001B[0merr\u001B[0m\u001B[1;33m\u001B[0m\u001B[1;33m\u001B[0m\u001B[0m\n\u001B[0m\u001B[0;32m   3083\u001B[0m \u001B[1;33m\u001B[0m\u001B[0m\n\u001B[0;32m   3084\u001B[0m         \u001B[1;32mif\u001B[0m \u001B[0mtolerance\u001B[0m \u001B[1;32mis\u001B[0m \u001B[1;32mnot\u001B[0m \u001B[1;32mNone\u001B[0m\u001B[1;33m:\u001B[0m\u001B[1;33m\u001B[0m\u001B[1;33m\u001B[0m\u001B[0m\n",
      "\u001B[1;31mKeyError\u001B[0m: '16.02.24'"
     ]
    }
   ],
   "source": [
    "date160224 = daeshin_day['16.02.24']"
   ]
  },
  {
   "cell_type": "markdown",
   "id": "180c5850",
   "metadata": {},
   "source": [
    "<br><br>\n",
    "<b>if we access row name as above, pandas evaluate this name as a key for the column  \n",
    "which will raise a key error</b>"
   ]
  },
  {
   "cell_type": "markdown",
   "id": "f16eca0e",
   "metadata": {},
   "source": [
    "<br><br>\n",
    "<b>Fortunately, Pandas provides a DataFrame method called loc,  \n",
    "which returns the row data as a Series</b>"
   ]
  },
  {
   "cell_type": "code",
   "execution_count": 28,
   "id": "effea675",
   "metadata": {},
   "outputs": [],
   "source": [
    "day_data = daeshin_day.loc['16.02.24']"
   ]
  },
  {
   "cell_type": "code",
   "execution_count": 29,
   "id": "516111b6",
   "metadata": {},
   "outputs": [
    {
     "data": {
      "text/plain": [
       "open     11100\n",
       "high     11100\n",
       "low      10950\n",
       "close    11100\n",
       "Name: 16.02.24, dtype: int64"
      ]
     },
     "execution_count": 29,
     "metadata": {},
     "output_type": "execute_result"
    }
   ],
   "source": [
    "day_data"
   ]
  },
  {
   "cell_type": "code",
   "execution_count": 30,
   "id": "a3524e93",
   "metadata": {},
   "outputs": [
    {
     "data": {
      "text/plain": [
       "pandas.core.series.Series"
      ]
     },
     "execution_count": 30,
     "metadata": {},
     "output_type": "execute_result"
    }
   ],
   "source": [
    "type(day_data)"
   ]
  },
  {
   "cell_type": "markdown",
   "id": "b1bda253",
   "metadata": {},
   "source": [
    "<br><br>\n",
    "<b>To check Column name and Index name, use attributes below</b>"
   ]
  },
  {
   "cell_type": "code",
   "execution_count": 31,
   "id": "d89dea88",
   "metadata": {},
   "outputs": [
    {
     "data": {
      "text/plain": [
       "Index(['open', 'high', 'low', 'close'], dtype='object')"
      ]
     },
     "execution_count": 31,
     "metadata": {},
     "output_type": "execute_result"
    }
   ],
   "source": [
    "daeshin_day.columns"
   ]
  },
  {
   "cell_type": "code",
   "execution_count": 33,
   "id": "48568c0c",
   "metadata": {},
   "outputs": [
    {
     "data": {
      "text/plain": [
       "Index(['16.02.29', '16.02.26', '16.02.25', '16.02.24', '16.02.23'], dtype='object')"
      ]
     },
     "execution_count": 33,
     "metadata": {},
     "output_type": "execute_result"
    }
   ],
   "source": [
    "daeshin_day.index"
   ]
  },
  {
   "cell_type": "code",
   "execution_count": null,
   "id": "8e9bbfa8",
   "metadata": {},
   "outputs": [],
   "source": []
  }
 ],
 "metadata": {
  "kernelspec": {
   "name": "pycharm-83047445",
   "language": "python",
   "display_name": "PyCharm (StockProject)"
  },
  "language_info": {
   "codemirror_mode": {
    "name": "ipython",
    "version": 3
   },
   "file_extension": ".py",
   "mimetype": "text/x-python",
   "name": "python",
   "nbconvert_exporter": "python",
   "pygments_lexer": "ipython3",
   "version": "3.8.8"
  }
 },
 "nbformat": 4,
 "nbformat_minor": 5
}
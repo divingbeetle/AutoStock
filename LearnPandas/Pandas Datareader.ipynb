{
 "cells": [
  {
   "cell_type": "markdown",
   "id": "5753d7d9",
   "metadata": {},
   "source": [
    "# DataReader"
   ]
  },
  {
   "cell_type": "markdown",
   "id": "d2dd4166",
   "metadata": {},
   "source": [
    "<br><br>\n",
    "<b>For daily candle chart data, it's more effective to load data from web, not the company API</b>"
   ]
  },
  {
   "cell_type": "markdown",
   "id": "03beb552",
   "metadata": {},
   "source": [
    "<b>Pandas Datareader provides methods to load data from web and make it into a dataframe</b>"
   ]
  },
  {
   "cell_type": "code",
   "execution_count": 1,
   "id": "22e76be7",
   "metadata": {},
   "outputs": [],
   "source": [
    "import pandas_datareader.data as web"
   ]
  },
  {
   "cell_type": "code",
   "execution_count": 2,
   "id": "a9ba05d1",
   "metadata": {},
   "outputs": [],
   "source": [
    "import datetime"
   ]
  },
  {
   "cell_type": "code",
   "execution_count": 3,
   "id": "c00038ae",
   "metadata": {},
   "outputs": [],
   "source": [
    "start = datetime.datetime(2016, 2, 19)"
   ]
  },
  {
   "cell_type": "code",
   "execution_count": 4,
   "id": "c8b4a715",
   "metadata": {},
   "outputs": [],
   "source": [
    "end = datetime.datetime(2016, 3, 4)"
   ]
  },
  {
   "cell_type": "code",
   "execution_count": 5,
   "id": "e02f391e",
   "metadata": {},
   "outputs": [],
   "source": [
    "gs = web.DataReader(\"078930.KS\", \"yahoo\", start, end)"
   ]
  },
  {
   "cell_type": "code",
   "execution_count": 7,
   "id": "610de134",
   "metadata": {},
   "outputs": [
    {
     "data": {
      "text/html": [
       "<div>\n",
       "<style scoped>\n",
       "    .dataframe tbody tr th:only-of-type {\n",
       "        vertical-align: middle;\n",
       "    }\n",
       "\n",
       "    .dataframe tbody tr th {\n",
       "        vertical-align: top;\n",
       "    }\n",
       "\n",
       "    .dataframe thead th {\n",
       "        text-align: right;\n",
       "    }\n",
       "</style>\n",
       "<table border=\"1\" class=\"dataframe\">\n",
       "  <thead>\n",
       "    <tr style=\"text-align: right;\">\n",
       "      <th></th>\n",
       "      <th>High</th>\n",
       "      <th>Low</th>\n",
       "      <th>Open</th>\n",
       "      <th>Close</th>\n",
       "      <th>Volume</th>\n",
       "      <th>Adj Close</th>\n",
       "    </tr>\n",
       "    <tr>\n",
       "      <th>Date</th>\n",
       "      <th></th>\n",
       "      <th></th>\n",
       "      <th></th>\n",
       "      <th></th>\n",
       "      <th></th>\n",
       "      <th></th>\n",
       "    </tr>\n",
       "  </thead>\n",
       "  <tbody>\n",
       "    <tr>\n",
       "      <th>2016-02-19</th>\n",
       "      <td>51100</td>\n",
       "      <td>49950</td>\n",
       "      <td>50300</td>\n",
       "      <td>50600</td>\n",
       "      <td>301800</td>\n",
       "      <td>42082.011719</td>\n",
       "    </tr>\n",
       "    <tr>\n",
       "      <th>2016-02-22</th>\n",
       "      <td>50800</td>\n",
       "      <td>49850</td>\n",
       "      <td>50300</td>\n",
       "      <td>50400</td>\n",
       "      <td>153961</td>\n",
       "      <td>41915.683594</td>\n",
       "    </tr>\n",
       "    <tr>\n",
       "      <th>2016-02-23</th>\n",
       "      <td>53000</td>\n",
       "      <td>50800</td>\n",
       "      <td>50800</td>\n",
       "      <td>52800</td>\n",
       "      <td>431934</td>\n",
       "      <td>43911.664062</td>\n",
       "    </tr>\n",
       "    <tr>\n",
       "      <th>2016-02-24</th>\n",
       "      <td>53500</td>\n",
       "      <td>51900</td>\n",
       "      <td>52000</td>\n",
       "      <td>53500</td>\n",
       "      <td>259616</td>\n",
       "      <td>44493.824219</td>\n",
       "    </tr>\n",
       "    <tr>\n",
       "      <th>2016-02-25</th>\n",
       "      <td>54700</td>\n",
       "      <td>52700</td>\n",
       "      <td>53900</td>\n",
       "      <td>53900</td>\n",
       "      <td>170839</td>\n",
       "      <td>44826.488281</td>\n",
       "    </tr>\n",
       "    <tr>\n",
       "      <th>2016-02-26</th>\n",
       "      <td>54500</td>\n",
       "      <td>53200</td>\n",
       "      <td>54300</td>\n",
       "      <td>53300</td>\n",
       "      <td>159453</td>\n",
       "      <td>44327.496094</td>\n",
       "    </tr>\n",
       "    <tr>\n",
       "      <th>2016-02-29</th>\n",
       "      <td>53900</td>\n",
       "      <td>52800</td>\n",
       "      <td>53000</td>\n",
       "      <td>53000</td>\n",
       "      <td>154692</td>\n",
       "      <td>44077.996094</td>\n",
       "    </tr>\n",
       "    <tr>\n",
       "      <th>2016-03-02</th>\n",
       "      <td>55200</td>\n",
       "      <td>53500</td>\n",
       "      <td>53900</td>\n",
       "      <td>55100</td>\n",
       "      <td>229999</td>\n",
       "      <td>45824.488281</td>\n",
       "    </tr>\n",
       "    <tr>\n",
       "      <th>2016-03-03</th>\n",
       "      <td>55800</td>\n",
       "      <td>54300</td>\n",
       "      <td>55300</td>\n",
       "      <td>55000</td>\n",
       "      <td>217063</td>\n",
       "      <td>45741.312500</td>\n",
       "    </tr>\n",
       "    <tr>\n",
       "      <th>2016-03-04</th>\n",
       "      <td>54800</td>\n",
       "      <td>53200</td>\n",
       "      <td>54700</td>\n",
       "      <td>54200</td>\n",
       "      <td>237934</td>\n",
       "      <td>45075.992188</td>\n",
       "    </tr>\n",
       "  </tbody>\n",
       "</table>\n",
       "</div>"
      ],
      "text/plain": [
       "             High    Low   Open  Close  Volume     Adj Close\n",
       "Date                                                        \n",
       "2016-02-19  51100  49950  50300  50600  301800  42082.011719\n",
       "2016-02-22  50800  49850  50300  50400  153961  41915.683594\n",
       "2016-02-23  53000  50800  50800  52800  431934  43911.664062\n",
       "2016-02-24  53500  51900  52000  53500  259616  44493.824219\n",
       "2016-02-25  54700  52700  53900  53900  170839  44826.488281\n",
       "2016-02-26  54500  53200  54300  53300  159453  44327.496094\n",
       "2016-02-29  53900  52800  53000  53000  154692  44077.996094\n",
       "2016-03-02  55200  53500  53900  55100  229999  45824.488281\n",
       "2016-03-03  55800  54300  55300  55000  217063  45741.312500\n",
       "2016-03-04  54800  53200  54700  54200  237934  45075.992188"
      ]
     },
     "execution_count": 7,
     "metadata": {},
     "output_type": "execute_result"
    }
   ],
   "source": [
    "gs"
   ]
  },
  {
   "cell_type": "code",
   "execution_count": 8,
   "id": "87d3c983",
   "metadata": {},
   "outputs": [
    {
     "name": "stdout",
     "output_type": "stream",
     "text": [
      "<class 'pandas.core.frame.DataFrame'>\n",
      "DatetimeIndex: 10 entries, 2016-02-19 to 2016-03-04\n",
      "Data columns (total 6 columns):\n",
      " #   Column     Non-Null Count  Dtype  \n",
      "---  ------     --------------  -----  \n",
      " 0   High       10 non-null     int64  \n",
      " 1   Low        10 non-null     int64  \n",
      " 2   Open       10 non-null     int64  \n",
      " 3   Close      10 non-null     int64  \n",
      " 4   Volume     10 non-null     int64  \n",
      " 5   Adj Close  10 non-null     float64\n",
      "dtypes: float64(1), int64(5)\n",
      "memory usage: 560.0 bytes\n"
     ]
    }
   ],
   "source": [
    "gs.info()"
   ]
  },
  {
   "cell_type": "markdown",
   "id": "272fa7c6",
   "metadata": {},
   "source": [
    "<br><br>\n",
    "<b>w/o period data, it will return data from 2010.01.01 to today</b>"
   ]
  },
  {
   "cell_type": "code",
   "execution_count": 11,
   "id": "52eefc7e",
   "metadata": {},
   "outputs": [],
   "source": [
    "gs = web.DataReader(\"078930.KS\", \"yahoo\")"
   ]
  },
  {
   "cell_type": "code",
   "execution_count": 13,
   "id": "3fedd6e6",
   "metadata": {},
   "outputs": [
    {
     "name": "stdout",
     "output_type": "stream",
     "text": [
      "<class 'pandas.core.frame.DataFrame'>\n",
      "DatetimeIndex: 1222 entries, 2016-08-16 to 2021-08-12\n",
      "Data columns (total 6 columns):\n",
      " #   Column     Non-Null Count  Dtype  \n",
      "---  ------     --------------  -----  \n",
      " 0   High       1222 non-null   float64\n",
      " 1   Low        1222 non-null   float64\n",
      " 2   Open       1222 non-null   float64\n",
      " 3   Close      1222 non-null   float64\n",
      " 4   Volume     1222 non-null   float64\n",
      " 5   Adj Close  1222 non-null   float64\n",
      "dtypes: float64(6)\n",
      "memory usage: 66.8 KB\n"
     ]
    }
   ],
   "source": [
    "gs.info()"
   ]
  },
  {
   "cell_type": "markdown",
   "id": "1adb2f01",
   "metadata": {},
   "source": [
    "<br><br>\n",
    "<b>so many data that we can draw a graph</b>"
   ]
  },
  {
   "cell_type": "code",
   "execution_count": 15,
   "id": "f3fbe34a",
   "metadata": {},
   "outputs": [],
   "source": [
    "import matplotlib.pyplot as plt"
   ]
  },
  {
   "cell_type": "code",
   "execution_count": 16,
   "id": "916cc5c9",
   "metadata": {},
   "outputs": [
    {
     "data": {
      "text/plain": [
       "[<matplotlib.lines.Line2D at 0x98815e0>]"
      ]
     },
     "execution_count": 16,
     "metadata": {},
     "output_type": "execute_result"
    }
   ],
   "source": [
    "plt.plot(gs['Adj Close'])"
   ]
  },
  {
   "cell_type": "code",
   "execution_count": 18,
   "id": "4034e5bd",
   "metadata": {},
   "outputs": [
    {
     "data": {
      "image/png": "[encoded data removed]",
      "text/plain": [
       "<Figure size 640x480 with 1 Axes>"
      ]
     },
     "metadata": {},
     "output_type": "display_data"
    }
   ],
   "source": [
    "plt.show()"
   ]
  },
  {
   "cell_type": "markdown",
   "id": "c5847d1f",
   "metadata": {},
   "source": [
    "<br><br>"
   ]
  },
  {
   "cell_type": "markdown",
   "id": "b7aca7cd",
   "metadata": {},
   "source": [
    "### Moving Average w/ Pandas"
   ]
  },
  {
   "cell_type": "markdown",
   "id": "5155d97b",
   "metadata": {},
   "source": [
    "<br><br>\n"
   ]
  },
  {
   "cell_type": "code",
   "execution_count": 25,
   "id": "7bafa1a5",
   "metadata": {},
   "outputs": [],
   "source": [
    "import pandas as pd"
   ]
  },
  {
   "cell_type": "code",
   "execution_count": 26,
   "id": "d6881117",
   "metadata": {},
   "outputs": [],
   "source": [
    "import pandas_datareader.data as web"
   ]
  },
  {
   "cell_type": "code",
   "execution_count": 27,
   "id": "4a9c2d0b",
   "metadata": {},
   "outputs": [],
   "source": [
    "gs = web.DataReader(\"078930.KS\", \"yahoo\", \"2014-01-01\", \"2016-03-06\")"
   ]
  },
  {
   "cell_type": "markdown",
   "id": "f65e81e0",
   "metadata": {},
   "source": [
    "<br><br>\n",
    "<b>check the dataframe w/ tail method</b>"
   ]
  },
  {
   "cell_type": "code",
   "execution_count": 28,
   "id": "4bb6043e",
   "metadata": {},
   "outputs": [
    {
     "data": {
      "text/html": [
       "<div>\n",
       "<style scoped>\n",
       "    .dataframe tbody tr th:only-of-type {\n",
       "        vertical-align: middle;\n",
       "    }\n",
       "\n",
       "    .dataframe tbody tr th {\n",
       "        vertical-align: top;\n",
       "    }\n",
       "\n",
       "    .dataframe thead th {\n",
       "        text-align: right;\n",
       "    }\n",
       "</style>\n",
       "<table border=\"1\" class=\"dataframe\">\n",
       "  <thead>\n",
       "    <tr style=\"text-align: right;\">\n",
       "      <th></th>\n",
       "      <th>High</th>\n",
       "      <th>Low</th>\n",
       "      <th>Open</th>\n",
       "      <th>Close</th>\n",
       "      <th>Volume</th>\n",
       "      <th>Adj Close</th>\n",
       "    </tr>\n",
       "    <tr>\n",
       "      <th>Date</th>\n",
       "      <th></th>\n",
       "      <th></th>\n",
       "      <th></th>\n",
       "      <th></th>\n",
       "      <th></th>\n",
       "      <th></th>\n",
       "    </tr>\n",
       "  </thead>\n",
       "  <tbody>\n",
       "    <tr>\n",
       "      <th>2016-02-26</th>\n",
       "      <td>54500.0</td>\n",
       "      <td>53200.0</td>\n",
       "      <td>54300.0</td>\n",
       "      <td>53300.0</td>\n",
       "      <td>159453.0</td>\n",
       "      <td>44327.496094</td>\n",
       "    </tr>\n",
       "    <tr>\n",
       "      <th>2016-02-29</th>\n",
       "      <td>53900.0</td>\n",
       "      <td>52800.0</td>\n",
       "      <td>53000.0</td>\n",
       "      <td>53000.0</td>\n",
       "      <td>154692.0</td>\n",
       "      <td>44077.996094</td>\n",
       "    </tr>\n",
       "    <tr>\n",
       "      <th>2016-03-02</th>\n",
       "      <td>55200.0</td>\n",
       "      <td>53500.0</td>\n",
       "      <td>53900.0</td>\n",
       "      <td>55100.0</td>\n",
       "      <td>229999.0</td>\n",
       "      <td>45824.488281</td>\n",
       "    </tr>\n",
       "    <tr>\n",
       "      <th>2016-03-03</th>\n",
       "      <td>55800.0</td>\n",
       "      <td>54300.0</td>\n",
       "      <td>55300.0</td>\n",
       "      <td>55000.0</td>\n",
       "      <td>217063.0</td>\n",
       "      <td>45741.312500</td>\n",
       "    </tr>\n",
       "    <tr>\n",
       "      <th>2016-03-04</th>\n",
       "      <td>54800.0</td>\n",
       "      <td>53200.0</td>\n",
       "      <td>54700.0</td>\n",
       "      <td>54200.0</td>\n",
       "      <td>237934.0</td>\n",
       "      <td>45075.992188</td>\n",
       "    </tr>\n",
       "  </tbody>\n",
       "</table>\n",
       "</div>"
      ],
      "text/plain": [
       "               High      Low     Open    Close    Volume     Adj Close\n",
       "Date                                                                  \n",
       "2016-02-26  54500.0  53200.0  54300.0  53300.0  159453.0  44327.496094\n",
       "2016-02-29  53900.0  52800.0  53000.0  53000.0  154692.0  44077.996094\n",
       "2016-03-02  55200.0  53500.0  53900.0  55100.0  229999.0  45824.488281\n",
       "2016-03-03  55800.0  54300.0  55300.0  55000.0  217063.0  45741.312500\n",
       "2016-03-04  54800.0  53200.0  54700.0  54200.0  237934.0  45075.992188"
      ]
     },
     "execution_count": 28,
     "metadata": {},
     "output_type": "execute_result"
    }
   ],
   "source": [
    "gs.tail()"
   ]
  },
  {
   "cell_type": "markdown",
   "id": "848e4e1f",
   "metadata": {},
   "source": [
    "<br><br>\n",
    "<b>get ma5</b>"
   ]
  },
  {
   "cell_type": "code",
   "execution_count": 29,
   "id": "671ba5a7",
   "metadata": {},
   "outputs": [],
   "source": [
    "ma5 = gs[\"Adj Close\"].rolling(window=5).mean()"
   ]
  },
  {
   "cell_type": "code",
   "execution_count": 30,
   "id": "824bd2ca",
   "metadata": {},
   "outputs": [
    {
     "data": {
      "text/plain": [
       "pandas.core.series.Series"
      ]
     },
     "execution_count": 30,
     "metadata": {},
     "output_type": "execute_result"
    }
   ],
   "source": [
    "type(ma5)"
   ]
  },
  {
   "cell_type": "code",
   "execution_count": 31,
   "id": "4b52bf67",
   "metadata": {},
   "outputs": [
    {
     "data": {
      "text/plain": [
       "Date\n",
       "2016-02-19    42007.163281\n",
       "2016-02-22    42082.012500\n",
       "2016-02-23    42464.576562\n",
       "2016-02-24    42946.939063\n",
       "2016-02-25    43445.934375\n",
       "2016-02-26    43895.031250\n",
       "2016-02-29    44327.493750\n",
       "2016-03-02    44710.058594\n",
       "2016-03-03    44959.556250\n",
       "2016-03-04    45009.457031\n",
       "Name: Adj Close, dtype: float64"
      ]
     },
     "execution_count": 31,
     "metadata": {},
     "output_type": "execute_result"
    }
   ],
   "source": [
    "ma5.tail(10)"
   ]
  },
  {
   "cell_type": "code",
   "execution_count": 35,
   "id": "ffbecaad",
   "metadata": {},
   "outputs": [],
   "source": [
    "gs.insert(len(gs.columns), \"MA5\", ma5)"
   ]
  },
  {
   "cell_type": "code",
   "execution_count": 36,
   "id": "df06fa61",
   "metadata": {},
   "outputs": [
    {
     "data": {
      "text/html": [
       "<div>\n",
       "<style scoped>\n",
       "    .dataframe tbody tr th:only-of-type {\n",
       "        vertical-align: middle;\n",
       "    }\n",
       "\n",
       "    .dataframe tbody tr th {\n",
       "        vertical-align: top;\n",
       "    }\n",
       "\n",
       "    .dataframe thead th {\n",
       "        text-align: right;\n",
       "    }\n",
       "</style>\n",
       "<table border=\"1\" class=\"dataframe\">\n",
       "  <thead>\n",
       "    <tr style=\"text-align: right;\">\n",
       "      <th></th>\n",
       "      <th>High</th>\n",
       "      <th>Low</th>\n",
       "      <th>Open</th>\n",
       "      <th>Close</th>\n",
       "      <th>Volume</th>\n",
       "      <th>Adj Close</th>\n",
       "      <th>MA5</th>\n",
       "    </tr>\n",
       "    <tr>\n",
       "      <th>Date</th>\n",
       "      <th></th>\n",
       "      <th></th>\n",
       "      <th></th>\n",
       "      <th></th>\n",
       "      <th></th>\n",
       "      <th></th>\n",
       "      <th></th>\n",
       "    </tr>\n",
       "  </thead>\n",
       "  <tbody>\n",
       "    <tr>\n",
       "      <th>2016-02-26</th>\n",
       "      <td>54500.0</td>\n",
       "      <td>53200.0</td>\n",
       "      <td>54300.0</td>\n",
       "      <td>53300.0</td>\n",
       "      <td>159453.0</td>\n",
       "      <td>44327.496094</td>\n",
       "      <td>43895.031250</td>\n",
       "    </tr>\n",
       "    <tr>\n",
       "      <th>2016-02-29</th>\n",
       "      <td>53900.0</td>\n",
       "      <td>52800.0</td>\n",
       "      <td>53000.0</td>\n",
       "      <td>53000.0</td>\n",
       "      <td>154692.0</td>\n",
       "      <td>44077.996094</td>\n",
       "      <td>44327.493750</td>\n",
       "    </tr>\n",
       "    <tr>\n",
       "      <th>2016-03-02</th>\n",
       "      <td>55200.0</td>\n",
       "      <td>53500.0</td>\n",
       "      <td>53900.0</td>\n",
       "      <td>55100.0</td>\n",
       "      <td>229999.0</td>\n",
       "      <td>45824.488281</td>\n",
       "      <td>44710.058594</td>\n",
       "    </tr>\n",
       "    <tr>\n",
       "      <th>2016-03-03</th>\n",
       "      <td>55800.0</td>\n",
       "      <td>54300.0</td>\n",
       "      <td>55300.0</td>\n",
       "      <td>55000.0</td>\n",
       "      <td>217063.0</td>\n",
       "      <td>45741.312500</td>\n",
       "      <td>44959.556250</td>\n",
       "    </tr>\n",
       "    <tr>\n",
       "      <th>2016-03-04</th>\n",
       "      <td>54800.0</td>\n",
       "      <td>53200.0</td>\n",
       "      <td>54700.0</td>\n",
       "      <td>54200.0</td>\n",
       "      <td>237934.0</td>\n",
       "      <td>45075.992188</td>\n",
       "      <td>45009.457031</td>\n",
       "    </tr>\n",
       "  </tbody>\n",
       "</table>\n",
       "</div>"
      ],
      "text/plain": [
       "               High      Low     Open    Close    Volume     Adj Close  \\\n",
       "Date                                                                     \n",
       "2016-02-26  54500.0  53200.0  54300.0  53300.0  159453.0  44327.496094   \n",
       "2016-02-29  53900.0  52800.0  53000.0  53000.0  154692.0  44077.996094   \n",
       "2016-03-02  55200.0  53500.0  53900.0  55100.0  229999.0  45824.488281   \n",
       "2016-03-03  55800.0  54300.0  55300.0  55000.0  217063.0  45741.312500   \n",
       "2016-03-04  54800.0  53200.0  54700.0  54200.0  237934.0  45075.992188   \n",
       "\n",
       "                     MA5  \n",
       "Date                      \n",
       "2016-02-26  43895.031250  \n",
       "2016-02-29  44327.493750  \n",
       "2016-03-02  44710.058594  \n",
       "2016-03-03  44959.556250  \n",
       "2016-03-04  45009.457031  "
      ]
     },
     "execution_count": 36,
     "metadata": {},
     "output_type": "execute_result"
    }
   ],
   "source": [
    "gs.tail(5)"
   ]
  },
  {
   "cell_type": "code",
   "execution_count": 37,
   "id": "a87b63e1",
   "metadata": {},
   "outputs": [],
   "source": [
    "import matplotlib.pyplot as plt"
   ]
  },
  {
   "cell_type": "code",
   "execution_count": 40,
   "id": "aaaa6450",
   "metadata": {},
   "outputs": [
    {
     "data": {
      "text/plain": [
       "[<matplotlib.lines.Line2D at 0xa4e6490>]"
      ]
     },
     "execution_count": 40,
     "metadata": {},
     "output_type": "execute_result"
    }
   ],
   "source": [
    "plt.plot(gs.index, gs['Adj Close'], label=\"Adj Close\")"
   ]
  },
  {
   "cell_type": "code",
   "execution_count": 41,
   "id": "b0f1bc56",
   "metadata": {},
   "outputs": [
    {
     "data": {
      "text/plain": [
       "[<matplotlib.lines.Line2D at 0xa51eb08>]"
      ]
     },
     "execution_count": 41,
     "metadata": {},
     "output_type": "execute_result"
    }
   ],
   "source": [
    "plt.plot(gs.index, gs['MA5'], label=\"MA5\")"
   ]
  },
  {
   "cell_type": "markdown",
   "id": "ac97dfdc",
   "metadata": {},
   "source": [
    "<br><br>\n",
    "<b>Let's add legend too,  \n",
    "loc (location) will be best possible</b>"
   ]
  },
  {
   "cell_type": "code",
   "execution_count": 42,
   "id": "0de9e49a",
   "metadata": {},
   "outputs": [
    {
     "data": {
      "text/plain": [
       "<matplotlib.legend.Legend at 0xa50d190>"
      ]
     },
     "execution_count": 42,
     "metadata": {},
     "output_type": "execute_result"
    }
   ],
   "source": [
    "plt.legend(loc='best')"
   ]
  },
  {
   "cell_type": "code",
   "execution_count": 43,
   "id": "181688af",
   "metadata": {},
   "outputs": [],
   "source": [
    "plt.grid()"
   ]
  },
  {
   "cell_type": "code",
   "execution_count": 44,
   "id": "269367b8",
   "metadata": {},
   "outputs": [
    {
     "data": {
      "image/png": "[encoded data removed]",
      "text/plain": [
       "<Figure size 640x480 with 1 Axes>"
      ]
     },
     "metadata": {},
     "output_type": "display_data"
    }
   ],
   "source": [
    "plt.show()"
   ]
  },
  {
   "cell_type": "markdown",
   "id": "9c8acaa5",
   "metadata": {},
   "source": [
    "<br><br>\n",
    "<b>you can do same for MA20, 60 and 120</b>"
   ]
  },
  {
   "cell_type": "code",
   "execution_count": null,
   "id": "fc54546d",
   "metadata": {},
   "outputs": [],
   "source": []
  }
 ],
 "metadata": {
  "kernelspec": {
   "display_name": "Python 3",
   "language": "python",
   "name": "python3"
  },
  "language_info": {
   "codemirror_mode": {
    "name": "ipython",
    "version": 3
   },
   "file_extension": ".py",
   "mimetype": "text/x-python",
   "name": "python",
   "nbconvert_exporter": "python",
   "pygments_lexer": "ipython3",
   "version": "3.9.6"
  }
 },
 "nbformat": 4,
 "nbformat_minor": 5
}
